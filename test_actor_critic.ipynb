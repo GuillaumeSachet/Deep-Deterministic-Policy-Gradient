{
 "cells": [
  {
   "cell_type": "code",
   "execution_count": 1,
   "metadata": {
    "ExecuteTime": {
     "end_time": "2020-10-14T07:38:01.003607Z",
     "start_time": "2020-10-14T07:37:58.859184Z"
    },
    "id": "aBlJMNBIfash"
   },
   "outputs": [],
   "source": [
    "from ddpg import DDPGAgent"
   ]
  },
  {
   "cell_type": "code",
   "execution_count": 2,
   "metadata": {
    "ExecuteTime": {
     "end_time": "2020-10-14T07:38:01.237681Z",
     "start_time": "2020-10-14T07:38:01.005052Z"
    },
    "id": "vXgXFPbhfasm"
   },
   "outputs": [],
   "source": [
    "from runner import Runner\n",
    "import matplotlib.pyplot as plt"
   ]
  },
  {
   "cell_type": "code",
   "execution_count": 11,
   "metadata": {
    "ExecuteTime": {
     "end_time": "2020-10-14T07:47:07.093478Z",
     "start_time": "2020-10-14T07:47:07.087525Z"
    },
    "colab": {
     "base_uri": "https://localhost:8080/",
     "height": 119
    },
    "executionInfo": {
     "elapsed": 643,
     "status": "ok",
     "timestamp": 1598262358053,
     "user": {
      "displayName": "Guillaume",
      "photoUrl": "",
      "userId": "10374282357298969482"
     },
     "user_tz": -120
    },
    "id": "2XdkDGH1fasp",
    "outputId": "ea2164db-a8f7-4c46-f68c-4bc723ac52dc"
   },
   "outputs": [
    {
     "name": "stdout",
     "output_type": "stream",
     "text": [
      "(96, 96, 3)\n",
      "(3,)\n",
      "[1. 1. 1.]\n",
      "[-1.  0.  0.]\n"
     ]
    }
   ],
   "source": [
    "# runner = Runner('BipedalWalker-v3','result')\n",
    "runner = Runner('CarRacing-v0','result')\n",
    "# runner = Runner('Pendulum-v0','result')\n",
    "\n",
    "state_shape = runner.env.observation_space.shape\n",
    "action_shape = runner.env.action_space.shape\n",
    "act_limit_high = runner.env.action_space.high\n",
    "act_limit_low = runner.env.action_space.low\n",
    "runner.close()\n",
    " \n",
    "print(state_shape)\n",
    "print(action_shape)\n",
    "print(act_limit_high)\n",
    "print(act_limit_low)"
   ]
  },
  {
   "cell_type": "code",
   "execution_count": 13,
   "metadata": {
    "ExecuteTime": {
     "end_time": "2020-10-14T07:47:34.838456Z",
     "start_time": "2020-10-14T07:47:34.210523Z"
    },
    "colab": {
     "base_uri": "https://localhost:8080/",
     "height": 551
    },
    "executionInfo": {
     "elapsed": 945,
     "status": "ok",
     "timestamp": 1597584436213,
     "user": {
      "displayName": "Guillaume Sachet",
      "photoUrl": "",
      "userId": "10374282357298969482"
     },
     "user_tz": -120
    },
    "id": "7LmbzGtEek9z",
    "outputId": "4fd6caeb-dd8c-4371-b01d-ecb20781acfc"
   },
   "outputs": [
    {
     "name": "stdout",
     "output_type": "stream",
     "text": [
      "Model: \"model_24\"\n",
      "__________________________________________________________________________________________________\n",
      "Layer (type)                    Output Shape         Param #     Connected to                     \n",
      "==================================================================================================\n",
      "input_39 (InputLayer)           [(None, 96, 96, 3)]  0                                            \n",
      "__________________________________________________________________________________________________\n",
      "conv2d_61 (Conv2D)              (None, 96, 96, 8)    224         input_39[0][0]                   \n",
      "__________________________________________________________________________________________________\n",
      "batch_normalization_60 (BatchNo (None, 96, 96, 8)    32          conv2d_61[0][0]                  \n",
      "__________________________________________________________________________________________________\n",
      "leaky_re_lu_60 (LeakyReLU)      (None, 96, 96, 8)    0           batch_normalization_60[0][0]     \n",
      "__________________________________________________________________________________________________\n",
      "max_pooling2d_60 (MaxPooling2D) (None, 48, 48, 8)    0           leaky_re_lu_60[0][0]             \n",
      "__________________________________________________________________________________________________\n",
      "conv2d_62 (Conv2D)              (None, 48, 48, 16)   1168        max_pooling2d_60[0][0]           \n",
      "__________________________________________________________________________________________________\n",
      "batch_normalization_61 (BatchNo (None, 48, 48, 16)   64          conv2d_62[0][0]                  \n",
      "__________________________________________________________________________________________________\n",
      "leaky_re_lu_61 (LeakyReLU)      (None, 48, 48, 16)   0           batch_normalization_61[0][0]     \n",
      "__________________________________________________________________________________________________\n",
      "max_pooling2d_61 (MaxPooling2D) (None, 24, 24, 16)   0           leaky_re_lu_61[0][0]             \n",
      "__________________________________________________________________________________________________\n",
      "conv2d_63 (Conv2D)              (None, 24, 24, 16)   2320        max_pooling2d_61[0][0]           \n",
      "__________________________________________________________________________________________________\n",
      "batch_normalization_62 (BatchNo (None, 24, 24, 16)   64          conv2d_63[0][0]                  \n",
      "__________________________________________________________________________________________________\n",
      "leaky_re_lu_62 (LeakyReLU)      (None, 24, 24, 16)   0           batch_normalization_62[0][0]     \n",
      "__________________________________________________________________________________________________\n",
      "max_pooling2d_62 (MaxPooling2D) (None, 12, 12, 16)   0           leaky_re_lu_62[0][0]             \n",
      "__________________________________________________________________________________________________\n",
      "flatten_20 (Flatten)            (None, 2304)         0           max_pooling2d_62[0][0]           \n",
      "__________________________________________________________________________________________________\n",
      "dense_42 (Dense)                (None, 16)           36880       flatten_20[0][0]                 \n",
      "__________________________________________________________________________________________________\n",
      "input_40 (InputLayer)           [(None, 3)]          0                                            \n",
      "__________________________________________________________________________________________________\n",
      "concatenate_12 (Concatenate)    (None, 19)           0           dense_42[0][0]                   \n",
      "                                                                 input_40[0][0]                   \n",
      "__________________________________________________________________________________________________\n",
      "dense_43 (Dense)                (None, 1)            20          concatenate_12[0][0]             \n",
      "==================================================================================================\n",
      "Total params: 40,772\n",
      "Trainable params: 40,692\n",
      "Non-trainable params: 80\n",
      "__________________________________________________________________________________________________\n",
      "None\n",
      "Model: \"model_25\"\n",
      "_________________________________________________________________\n",
      "Layer (type)                 Output Shape              Param #   \n",
      "=================================================================\n",
      "input_41 (InputLayer)        [(None, 96, 96, 3)]       0         \n",
      "_________________________________________________________________\n",
      "conv2d_64 (Conv2D)           (None, 96, 96, 8)         224       \n",
      "_________________________________________________________________\n",
      "batch_normalization_63 (Batc (None, 96, 96, 8)         32        \n",
      "_________________________________________________________________\n",
      "leaky_re_lu_63 (LeakyReLU)   (None, 96, 96, 8)         0         \n",
      "_________________________________________________________________\n",
      "max_pooling2d_63 (MaxPooling (None, 48, 48, 8)         0         \n",
      "_________________________________________________________________\n",
      "conv2d_65 (Conv2D)           (None, 48, 48, 16)        1168      \n",
      "_________________________________________________________________\n",
      "batch_normalization_64 (Batc (None, 48, 48, 16)        64        \n",
      "_________________________________________________________________\n",
      "leaky_re_lu_64 (LeakyReLU)   (None, 48, 48, 16)        0         \n",
      "_________________________________________________________________\n",
      "max_pooling2d_64 (MaxPooling (None, 24, 24, 16)        0         \n",
      "_________________________________________________________________\n",
      "conv2d_66 (Conv2D)           (None, 24, 24, 16)        2320      \n",
      "_________________________________________________________________\n",
      "batch_normalization_65 (Batc (None, 24, 24, 16)        64        \n",
      "_________________________________________________________________\n",
      "leaky_re_lu_65 (LeakyReLU)   (None, 24, 24, 16)        0         \n",
      "_________________________________________________________________\n",
      "max_pooling2d_65 (MaxPooling (None, 12, 12, 16)        0         \n",
      "_________________________________________________________________\n",
      "flatten_21 (Flatten)         (None, 2304)              0         \n",
      "_________________________________________________________________\n",
      "dense_44 (Dense)             (None, 16)                36880     \n",
      "_________________________________________________________________\n",
      "dense_45 (Dense)             (None, 3)                 51        \n",
      "=================================================================\n",
      "Total params: 40,803\n",
      "Trainable params: 40,723\n",
      "Non-trainable params: 80\n",
      "_________________________________________________________________\n",
      "None\n"
     ]
    }
   ],
   "source": [
    "agent = DDPGAgent(state_shape, action_shape, neurons_actor = [32,16],neurons_critic = [32,16],\n",
    "                 act_limit_high = act_limit_high, act_limit_low = act_limit_low, buffer_size = 50000,\n",
    "                  gamma = 0.99, lr_actor = 0.001, lr_critic = 0.001, act_noise = 0.1, polyak = 0.995, input_is_picture = True)"
   ]
  },
  {
   "cell_type": "code",
   "execution_count": 9,
   "metadata": {
    "ExecuteTime": {
     "end_time": "2020-10-14T07:46:21.564816Z",
     "start_time": "2020-10-14T07:46:21.449744Z"
    },
    "colab": {
     "base_uri": "https://localhost:8080/",
     "height": 527
    },
    "executionInfo": {
     "elapsed": 789,
     "status": "ok",
     "timestamp": 1597147474433,
     "user": {
      "displayName": "Guillaume Sachet",
      "photoUrl": "",
      "userId": "10374282357298969482"
     },
     "user_tz": -120
    },
    "id": "8e4YCC_xfass",
    "outputId": "6d17bdd2-9dce-47b2-e052-54ff740b25c6",
    "scrolled": true
   },
   "outputs": [
    {
     "name": "stdout",
     "output_type": "stream",
     "text": [
      "Model: \"model_16\"\n",
      "__________________________________________________________________________________________________\n",
      "Layer (type)                    Output Shape         Param #     Connected to                     \n",
      "==================================================================================================\n",
      "input_25 (InputLayer)           [(None, 24)]         0                                            \n",
      "__________________________________________________________________________________________________\n",
      "input_26 (InputLayer)           [(None, 4)]          0                                            \n",
      "__________________________________________________________________________________________________\n",
      "concatenate_8 (Concatenate)     (None, 28)           0           input_25[0][0]                   \n",
      "                                                                 input_26[0][0]                   \n",
      "__________________________________________________________________________________________________\n",
      "dense_22 (Dense)                (None, 512)          14848       concatenate_8[0][0]              \n",
      "__________________________________________________________________________________________________\n",
      "dense_23 (Dense)                (None, 512)          262656      dense_22[0][0]                   \n",
      "__________________________________________________________________________________________________\n",
      "dense_24 (Dense)                (None, 1)            513         dense_23[0][0]                   \n",
      "==================================================================================================\n",
      "Total params: 278,017\n",
      "Trainable params: 278,017\n",
      "Non-trainable params: 0\n",
      "__________________________________________________________________________________________________\n",
      "None\n",
      "Model: \"model_17\"\n",
      "_________________________________________________________________\n",
      "Layer (type)                 Output Shape              Param #   \n",
      "=================================================================\n",
      "input_27 (InputLayer)        [(None, 24)]              0         \n",
      "_________________________________________________________________\n",
      "dense_25 (Dense)             (None, 512)               12800     \n",
      "_________________________________________________________________\n",
      "dense_26 (Dense)             (None, 512)               262656    \n",
      "_________________________________________________________________\n",
      "dense_27 (Dense)             (None, 4)                 2052      \n",
      "=================================================================\n",
      "Total params: 277,508\n",
      "Trainable params: 277,508\n",
      "Non-trainable params: 0\n",
      "_________________________________________________________________\n",
      "None\n"
     ]
    }
   ],
   "source": [
    "agent = DDPGAgent(state_shape, action_shape, neurons_actor = [512,512],neurons_critic = [512,512],\n",
    "                 act_limit_high = act_limit_high, act_limit_low = act_limit_low, buffer_size = 50000,\n",
    "                  gamma = 0.99, lr_actor = 0.001, lr_critic = 0.001, act_noise = 0.1, polyak = 0.995)"
   ]
  },
  {
   "cell_type": "code",
   "execution_count": null,
   "metadata": {
    "colab": {
     "base_uri": "https://localhost:8080/",
     "height": 34
    },
    "executionInfo": {
     "elapsed": 3282,
     "status": "ok",
     "timestamp": 1597584449133,
     "user": {
      "displayName": "Guillaume Sachet",
      "photoUrl": "",
      "userId": "10374282357298969482"
     },
     "user_tz": -120
    },
    "id": "g6NjQMLrmAWS",
    "outputId": "02f58ca1-8ef9-4664-df8b-fdc63c6d4a44"
   },
   "outputs": [
    {
     "name": "stdout",
     "output_type": "stream",
     "text": [
      "Loaded\n"
     ]
    }
   ],
   "source": [
    "agent.load_agent('/content/drive/My Drive/Colab Notebooks/Actor Critic/weights/BipedalWalker/256_256/BW')"
   ]
  },
  {
   "cell_type": "code",
   "execution_count": null,
   "metadata": {
    "ExecuteTime": {
     "end_time": "2020-07-27T22:20:36.519410Z",
     "start_time": "2020-07-27T22:20:36.280834Z"
    },
    "colab": {
     "base_uri": "https://localhost:8080/",
     "height": 34
    },
    "executionInfo": {
     "elapsed": 10115,
     "status": "ok",
     "timestamp": 1597147487588,
     "user": {
      "displayName": "Guillaume Sachet",
      "photoUrl": "",
      "userId": "10374282357298969482"
     },
     "user_tz": -120
    },
    "id": "eMGoO6Xbfasx",
    "outputId": "7593cd22-e007-490f-a043-1b7268147d32"
   },
   "outputs": [
    {
     "name": "stdout",
     "output_type": "stream",
     "text": [
      "Loaded\n"
     ]
    }
   ],
   "source": [
    "agent.load_agent('/content/drive/My Drive/Colab Notebooks/Actor Critic/weights/BipedalWalker/512_512/BW')"
   ]
  },
  {
   "cell_type": "code",
   "execution_count": null,
   "metadata": {
    "colab": {
     "base_uri": "https://localhost:8080/",
     "height": 34
    },
    "executionInfo": {
     "elapsed": 4643,
     "status": "ok",
     "timestamp": 1597584974158,
     "user": {
      "displayName": "Guillaume Sachet",
      "photoUrl": "",
      "userId": "10374282357298969482"
     },
     "user_tz": -120
    },
    "id": "37888kPeerhF",
    "outputId": "69c58c06-6353-4b10-bb9d-3162b50c7095"
   },
   "outputs": [
    {
     "name": "stdout",
     "output_type": "stream",
     "text": [
      "Loaded\n"
     ]
    }
   ],
   "source": [
    " agent.load_agent('/content/drive/My Drive/Colab Notebooks/Actor Critic/weights/BipedalWalkerHardcore/256_256/BW')"
   ]
  },
  {
   "cell_type": "code",
   "execution_count": null,
   "metadata": {
    "ExecuteTime": {
     "end_time": "2020-07-23T17:02:29.243881Z",
     "start_time": "2020-07-23T16:24:14.570448Z"
    },
    "collapsed": true,
    "id": "RlG-fTAZfasz",
    "outputId": "44fc1129-4170-4238-d932-4c2731e4d9fb"
   },
   "outputs": [
    {
     "name": "stdout",
     "output_type": "stream",
     "text": [
      "Not enough memory in replay buffer\n",
      "episode: 1/15 | score: -1061.4408769283013 | steps: 200 | time: 5.16\n",
      "Not enough memory in replay buffer\n",
      "episode: 2/15 | score: -946.3593708241917 | steps: 200 | time: 4.99\n",
      "Not enough memory in replay buffer\n",
      "episode: 3/15 | score: -1017.6238753742238 | steps: 200 | time: 4.86\n",
      "Not enough memory in replay buffer\n",
      "episode: 4/15 | score: -917.1765902691812 | steps: 200 | time: 4.93\n",
      "Not enough memory in replay buffer\n",
      "episode: 5/15 | score: -1087.5280247538853 | steps: 200 | time: 4.83\n",
      "Experience replay done 50 times\n",
      "episode: 6/15 | score: -866.6527961353723 | steps: 200 | time: 9.44\n",
      "Experience replay done 50 times\n",
      "episode: 7/15 | score: -1458.5138143613203 | steps: 200 | time: 9.12\n",
      "Experience replay done 50 times\n",
      "episode: 8/15 | score: -1572.7805557731274 | steps: 200 | time: 9.09\n",
      "Experience replay done 50 times\n",
      "episode: 9/15 | score: -1163.3233612981796 | steps: 200 | time: 8.95\n",
      "Experience replay done 50 times\n",
      "episode: 10/15 | score: -1712.3791465136946 | steps: 200 | time: 8.95\n",
      "Experience replay done 50 times\n",
      "episode: 11/15 | score: -1470.748753629821 | steps: 200 | time: 9.11\n",
      "Experience replay done 50 times\n",
      "episode: 12/15 | score: -1636.97509037839 | steps: 200 | time: 9.13\n",
      "Experience replay done 50 times\n",
      "episode: 13/15 | score: -1458.814747361729 | steps: 200 | time: 9.26\n",
      "Experience replay done 50 times\n",
      "episode: 14/15 | score: -1703.7815135841345 | steps: 200 | time: 8.96\n",
      "Experience replay done 50 times\n",
      "episode: 15/15 | score: -1478.7766182207583 | steps: 200 | time: 8.95\n"
     ]
    },
    {
     "data": {
      "text/plain": [
       "[<matplotlib.lines.Line2D at 0x1714d755588>]"
      ]
     },
     "execution_count": 5,
     "metadata": {
      "tags": []
     },
     "output_type": "execute_result"
    },
    {
     "data": {
      "image/png": "[encoded data removed]",
      "text/plain": [
       "<Figure size 432x288 with 1 Axes>"
      ]
     },
     "metadata": {
      "needs_background": "light",
      "tags": []
     },
     "output_type": "display_data"
    }
   ],
   "source": [
    "# runner = Runner('Pendulum-v0','result/Pendulum-v0')\n",
    "# history = runner.train(agent, num_episodes = 15, render_freq = 0)\n",
    "# runner.close()\n",
    " \n",
    "# plt.plot(history)"
   ]
  },
  {
   "cell_type": "code",
   "execution_count": null,
   "metadata": {
    "ExecuteTime": {
     "end_time": "2020-07-28T09:13:14.622652Z",
     "start_time": "2020-07-28T08:35:09.755456Z"
    },
    "id": "mZLxMjNIfas4"
   },
   "outputs": [],
   "source": [
    "for _ in range(10):\n",
    "    runner = Runner('BipedalWalker-v3','result/BipedalWalker-v3/512_512/')\n",
    "    history = runner.train(agent, num_episodes = 100, render_freq = 0, replay_per_step = 1, batch_size = 64)\n",
    "    runner.close()\n",
    "    \n",
    "    plt.plot(history)\n",
    "\n",
    "    agent.save_agent('/content/drive/My Drive/Colab Notebooks/Actor Critic/weights/BipedalWalker/512_512/BW')"
   ]
  },
  {
   "cell_type": "code",
   "execution_count": null,
   "metadata": {
    "colab": {
     "base_uri": "https://localhost:8080/",
     "height": 191
    },
    "id": "b66SVOeMe5i7",
    "outputId": "388d9ba6-3d97-4ce6-d35c-1f79ca5dee26"
   },
   "outputs": [
    {
     "name": "stderr",
     "output_type": "stream",
     "text": [
      "/usr/local/lib/python3.6/dist-packages/gym/logger.py:30: UserWarning: \u001b[33mWARN: Box bound precision lowered by casting to float32\u001b[0m\n",
      "  warnings.warn(colorize('%s: %s'%('WARN', msg % args), 'yellow'))\n"
     ]
    },
    {
     "name": "stdout",
     "output_type": "stream",
     "text": [
      "episode: 1/100 | score: -68.64645977274132 | steps: 283 | replay: 283 | time: 55.53\n",
      "episode: 2/100 | score: -63.27109478171915 | steps: 211 | replay: 211 | time: 40.62\n",
      "episode: 3/100 | score: -53.185149502362655 | steps: 254 | replay: 254 | time: 48.83\n",
      "episode: 4/100 | score: -78.23810841404747 | steps: 161 | replay: 161 | time: 30.88\n",
      "episode: 5/100 | score: -72.16947605026112 | steps: 275 | replay: 275 | time: 55.06\n",
      "episode: 6/100 | score: -92.46289266129658 | steps: 152 | replay: 152 | time: 29.93\n",
      "episode: 7/100 | score: -87.96744192866102 | steps: 159 | replay: 159 | time: 31.27\n",
      "episode: 8/100 | score: -83.08836107802003 | steps: 164 | replay: 164 | time: 32.12\n"
     ]
    }
   ],
   "source": [
    "for _ in range(2):\n",
    "    runner = Runner('BipedalWalkerHardcore-v3','result/BipedalWalkerHardcore-v3/256_256/')\n",
    "    history = runner.train(agent, num_episodes = 100, render_freq = 0, replay_per_step = 1, batch_size = 64)\n",
    "    runner.close()\n",
    "\n",
    "    plt.plot(history)\n",
    "\n",
    "    agent.save_agent('/content/drive/My Drive/Colab Notebooks/Actor Critic/weights/BipedalWalkerHardcore/256_256/BW')"
   ]
  },
  {
   "cell_type": "code",
   "execution_count": null,
   "metadata": {
    "ExecuteTime": {
     "end_time": "2020-07-28T09:22:37.847095Z",
     "start_time": "2020-07-28T09:22:37.196841Z"
    },
    "colab": {
     "base_uri": "https://localhost:8080/",
     "height": 34
    },
    "executionInfo": {
     "elapsed": 1881,
     "status": "ok",
     "timestamp": 1597165079247,
     "user": {
      "displayName": "Guillaume Sachet",
      "photoUrl": "",
      "userId": "10374282357298969482"
     },
     "user_tz": -120
    },
    "id": "1MdcFVvVfas6",
    "outputId": "d7d98fbc-c43d-4869-cbd0-d19274d06aa0"
   },
   "outputs": [
    {
     "name": "stdout",
     "output_type": "stream",
     "text": [
      "Saved\n"
     ]
    }
   ],
   "source": [
    "agent.save_agent('/content/drive/My Drive/Colab Notebooks/Actor Critic/weights/BipedalWalkerHardcore/256_256/BW')"
   ]
  },
  {
   "cell_type": "code",
   "execution_count": null,
   "metadata": {
    "id": "jBIrg5q8fatG"
   },
   "outputs": [],
   "source": []
  }
 ],
 "metadata": {
  "colab": {
   "collapsed_sections": [],
   "name": "test_actor_critic.ipynb",
   "provenance": []
  },
  "kernelspec": {
   "display_name": "Python 3.7.9",
   "language": "python",
   "name": "tf-gpu"
  },
  "language_info": {
   "codemirror_mode": {
    "name": "ipython",
    "version": 3
   },
   "file_extension": ".py",
   "mimetype": "text/x-python",
   "name": "python",
   "nbconvert_exporter": "python",
   "pygments_lexer": "ipython3",
   "version": "3.7.9"
  },
  "varInspector": {
   "cols": {
    "lenName": 16,
    "lenType": 16,
    "lenVar": 40
   },
   "kernels_config": {
    "python": {
     "delete_cmd_postfix": "",
     "delete_cmd_prefix": "del ",
     "library": "var_list.py",
     "varRefreshCmd": "print(var_dic_list())"
    },
    "r": {
     "delete_cmd_postfix": ") ",
     "delete_cmd_prefix": "rm(",
     "library": "var_list.r",
     "varRefreshCmd": "cat(var_dic_list()) "
    }
   },
   "types_to_exclude": [
    "module",
    "function",
    "builtin_function_or_method",
    "instance",
    "_Feature"
   ],
   "window_display": false
  }
 },
 "nbformat": 4,
 "nbformat_minor": 1
}
